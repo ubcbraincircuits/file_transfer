{
 "cells": [
  {
   "cell_type": "markdown",
   "metadata": {},
   "source": [
    "## Introduction"
   ]
  },
  {
   "cell_type": "markdown",
   "metadata": {},
   "source": [
    "The goal of this notebook is to facilitate uploads to OSF while preserving file structures. Files will be zipped and uploaded recursively to OSF. \n",
    "\n",
    "For the moment assume that we first run \"find folder/ -type f -size +5GB\" to check for files larger than OSF's limit"
   ]
  },
  {
   "cell_type": "code",
   "execution_count": 2,
   "metadata": {},
   "outputs": [],
   "source": [
    "import os\n",
    "import shutil\n",
    "\n",
    "#a function to find the size of a folder\n",
    "def get_size(start_path = '.'):\n",
    "    total_size = 0\n",
    "    for dirpath, dirnames, filenames in os.walk(start_path):\n",
    "        for f in filenames:\n",
    "            fp = os.path.join(dirpath, f)\n",
    "            # skip if it is symbolic link\n",
    "            if not os.path.islink(fp):\n",
    "                total_size += os.path.getsize(fp)\n",
    "\n",
    "    return total_size\n",
    "\n",
    "#print(get_size('/alder/data/cbh/Jeff'), 'bytes')\n",
    "\n",
    "the_start_path='/alder/data/cbh/Jeff' #enter a start path \n",
    "\n",
    "the_cutoff=1000000000 #1GB is the max size of a zip that OSF will display the contents on the web\n",
    "\n",
    "for dirpath, dirnames, filenames in os.walk(the_start_path):\n",
    "    print(dirpath)\n",
    "    print(dirnames)\n",
    "    the_flags=[]\n",
    "    for idx,d in enumerate(dirnames):\n",
    "        the_path=dirpath+'/'+d\n",
    "        print(the_path)\n",
    "        if get_size(the_path) < the_cutoff:\n",
    "            print('its < 1GB')\n",
    "            output_filename=the_path #note adding .zip is not nescessary, this will be done by shutil\n",
    "            dir_to_zip=the_path\n",
    "            print(output_filename)\n",
    "            print(dir_to_zip)\n",
    "            shutil.make_archive(output_filename, 'zip', dir_to_zip)\n",
    "            shutil.rmtree(dir_to_zip)\n",
    "            the_flags.append(idx)\n",
    "    print(the_flags)\n",
    "    print(type(the_flags))\n",
    "    the_flags.reverse()\n",
    "    for f in the_flags:\n",
    "        print(f)\n",
    "        del dirnames[f]\n",
    "\n"
   ]
  },
  {
   "cell_type": "code",
   "execution_count": null,
   "metadata": {},
   "outputs": [],
   "source": []
  }
 ],
 "metadata": {
  "kernelspec": {
   "display_name": "Python 3",
   "language": "python",
   "name": "python3"
  },
  "language_info": {
   "codemirror_mode": {
    "name": "ipython",
    "version": 3
   },
   "file_extension": ".py",
   "mimetype": "text/x-python",
   "name": "python",
   "nbconvert_exporter": "python",
   "pygments_lexer": "ipython3",
   "version": "3.7.1"
  }
 },
 "nbformat": 4,
 "nbformat_minor": 4
}
